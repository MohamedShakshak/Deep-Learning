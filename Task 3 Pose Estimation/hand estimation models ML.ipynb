{
 "cells": [
  {
   "cell_type": "code",
   "execution_count": 31,
   "id": "574a7ce0-2a53-4a2c-bbba-64d74e8e3047",
   "metadata": {},
   "outputs": [],
   "source": [
    "import numpy as np\n",
    "import cv2\n",
    "import time\n",
    "import pandas as pd\n",
    "import seaborn as sns\n",
    "import matplotlib.pyplot as plt\n",
    "from sklearn.utils import shuffle"
   ]
  },
  {
   "cell_type": "code",
   "execution_count": 32,
   "id": "b99eefec-2504-4453-bd3f-d0f8623a0eae",
   "metadata": {},
   "outputs": [],
   "source": [
    "one=pd.read_csv(\"D:\\\\yolo8\\\\one.csv\")\n",
    "two=pd.read_csv(\"D:\\\\yolo8\\\\two.csv\")\n",
    "three=pd.read_csv(\"D:\\\\yolo8\\\\three.csv\")\n",
    "four=pd.read_csv(\"D:\\\\yolo8\\\\four.csv\")\n",
    "six=pd.read_csv(\"D:\\\\yolo8\\\\six.csv\")\n",
    "eight=pd.read_csv(\"D:\\\\yolo8\\\\eight.csv\")\n",
    "yes=pd.read_csv(\"D:\\\\yolo8\\\\yes.csv\")\n",
    "i_love_you=pd.read_csv(\"D:\\\\yolo8\\\\i love you.csv\")\n",
    "please=pd.read_csv(\"D:\\\\yolo8\\\\please.csv\")\n",
    "x=pd.read_csv(\"D:\\\\yolo8\\\\x.csv\")\n",
    "a=pd.read_csv(\"D:\\\\yolo8\\\\a.csv\")\n",
    "c=pd.read_csv(\"D:\\\\yolo8\\\\c.csv\")\n",
    "f=pd.read_csv(\"D:\\\\yolo8\\\\f.csv\")\n",
    "g=pd.read_csv(\"D:\\\\yolo8\\\\g.csv\")\n",
    "h=pd.read_csv(\"D:\\\\yolo8\\\\h.csv\")\n",
    "help=pd.read_csv(\"D:\\\\yolo8\\\\help.csv\")\n",
    "house=pd.read_csv(\"D:\\\\yolo8\\\\house.csv\")\n",
    "w=pd.read_csv(\"D:\\\\yolo8\\\\w.csv\")\n",
    "z=pd.read_csv(\"D:\\\\yolo8\\\\z.csv\")\n"
   ]
  },
  {
   "cell_type": "code",
   "execution_count": 33,
   "id": "d87d3764-fa9b-4b03-b079-fc6c5fdcc61d",
   "metadata": {},
   "outputs": [
    {
     "data": {
      "text/plain": [
       "(4880, 43)"
      ]
     },
     "execution_count": 33,
     "metadata": {},
     "output_type": "execute_result"
    }
   ],
   "source": [
    "data=pd.concat([one,two,three,four,six,eight,yes,i_love_you,please,x,a,c,f,g,h,help,house,w,z])\n",
    "data.shape"
   ]
  },
  {
   "cell_type": "code",
   "execution_count": 34,
   "id": "77181930-d9b8-4a74-8da6-8c1f3f5b3599",
   "metadata": {},
   "outputs": [],
   "source": [
    "data=shuffle(data)"
   ]
  },
  {
   "cell_type": "code",
   "execution_count": 35,
   "id": "79a5f85f-ad1e-47c2-b850-7cbfe149b26a",
   "metadata": {},
   "outputs": [
    {
     "name": "stdout",
     "output_type": "stream",
     "text": [
      "Index(['0', '1', '2', '3', '4', '5', '6', '7', '8', '9', '10', '11', '12',\n",
      "       '13', '14', '15', '16', '17', '18', '19', '20', '21', '22', '23', '24',\n",
      "       '25', '26', '27', '28', '29', '30', '31', '32', '33', '34', '35', '36',\n",
      "       '37', '38', '39', '40', '41', 'label'],\n",
      "      dtype='object')\n",
      "0        0\n",
      "1        0\n",
      "2        0\n",
      "3        0\n",
      "4        0\n",
      "5        0\n",
      "6        0\n",
      "7        0\n",
      "8        0\n",
      "9        0\n",
      "10       0\n",
      "11       0\n",
      "12       0\n",
      "13       0\n",
      "14       0\n",
      "15       0\n",
      "16       0\n",
      "17       0\n",
      "18       0\n",
      "19       0\n",
      "20       0\n",
      "21       0\n",
      "22       0\n",
      "23       0\n",
      "24       0\n",
      "25       0\n",
      "26       0\n",
      "27       0\n",
      "28       0\n",
      "29       0\n",
      "30       0\n",
      "31       0\n",
      "32       0\n",
      "33       0\n",
      "34       0\n",
      "35       0\n",
      "36       0\n",
      "37       0\n",
      "38       0\n",
      "39       0\n",
      "40       0\n",
      "41       0\n",
      "label    0\n",
      "dtype: int64\n"
     ]
    }
   ],
   "source": [
    "print(data.columns)\n",
    "print(data.isna().sum())"
   ]
  },
  {
   "cell_type": "code",
   "execution_count": 36,
   "id": "e50a7fc2",
   "metadata": {},
   "outputs": [],
   "source": [
    "# Exporting the DataFrame to a CSV file\n",
    "data.to_csv('final_concatenated_data.csv', index=False)"
   ]
  },
  {
   "cell_type": "code",
   "execution_count": 37,
   "id": "b4f0fe02-7c4d-4c19-a56d-fe4a7c52ab4b",
   "metadata": {},
   "outputs": [
    {
     "data": {
      "image/png": "[encoded data removed]",
      "text/plain": [
       "<Figure size 640x480 with 1 Axes>"
      ]
     },
     "metadata": {},
     "output_type": "display_data"
    }
   ],
   "source": [
    "X=data.drop(columns=['label'])\n",
    "y=data['label']\n",
    "sns.countplot(x='label',data=data,hue='label',palette='dark')\n",
    "plt.show()"
   ]
  },
  {
   "cell_type": "code",
   "execution_count": 38,
   "id": "749fe884-44e5-4d8e-9bcc-bbda4ef65f1d",
   "metadata": {},
   "outputs": [
    {
     "name": "stdout",
     "output_type": "stream",
     "text": [
      "(4148, 42) (732, 42) (4148,) (732,)\n",
      "Label Mapping: {'a': 0, 'c': 1, 'eight': 2, 'f': 3, 'four': 4, 'g': 5, 'h': 6, 'help': 7, 'house': 8, 'i love you': 9, 'one': 10, 'please': 11, 'six': 12, 'three': 13, 'two': 14, 'w': 15, 'x': 16, 'yes': 17, 'z': 18}\n"
     ]
    }
   ],
   "source": [
    "from sklearn.preprocessing import MinMaxScaler, LabelEncoder\n",
    "from sklearn.model_selection import train_test_split\n",
    "\n",
    "# Initialize and apply MinMaxScaler to X\n",
    "minmax = MinMaxScaler()\n",
    "X = minmax.fit_transform(X)\n",
    "\n",
    "# Initialize and apply LabelEncoder to y\n",
    "label_encoder = LabelEncoder()\n",
    "y_encoded = label_encoder.fit_transform(y)\n",
    "\n",
    "# Split the data using train_test_split\n",
    "X_train, X_test, y_train, y_test = train_test_split(X, y_encoded, test_size=0.15, shuffle=True, random_state=11)\n",
    "\n",
    "# Verify the shapes\n",
    "print(X_train.shape, X_test.shape, y_train.shape, y_test.shape)\n",
    "\n",
    "# Optional: Display the mapping of original labels to encoded values\n",
    "label_mapping = dict(zip(label_encoder.classes_, label_encoder.transform(label_encoder.classes_)))\n",
    "print(\"Label Mapping:\", label_mapping)\n"
   ]
  },
  {
   "cell_type": "code",
   "execution_count": null,
   "id": "90ca31ce",
   "metadata": {},
   "outputs": [],
   "source": []
  },
  {
   "cell_type": "code",
   "execution_count": 45,
   "id": "9ce68c8e-e65b-4763-95d9-d2ec3d2cad6a",
   "metadata": {},
   "outputs": [
    {
     "name": "stderr",
     "output_type": "stream",
     "text": [
      " 11%|█         | 2/18 [00:00<00:03,  4.58it/s]c:\\Users\\TMM\\AppData\\Local\\Programs\\Python\\Python312\\Lib\\site-packages\\sklearn\\linear_model\\_logistic.py:469: ConvergenceWarning: lbfgs failed to converge (status=1):\n",
      "STOP: TOTAL NO. of ITERATIONS REACHED LIMIT.\n",
      "\n",
      "Increase the number of iterations (max_iter) or scale the data as shown in:\n",
      "    https://scikit-learn.org/stable/modules/preprocessing.html\n",
      "Please also refer to the documentation for alternative solver options:\n",
      "    https://scikit-learn.org/stable/modules/linear_model.html#logistic-regression\n",
      "  n_iter_i = _check_optimize_result(\n",
      " 22%|██▏       | 4/18 [00:00<00:02,  5.46it/s]c:\\Users\\TMM\\AppData\\Local\\Programs\\Python\\Python312\\Lib\\site-packages\\sklearn\\linear_model\\_logistic.py:469: ConvergenceWarning: lbfgs failed to converge (status=1):\n",
      "STOP: TOTAL NO. of ITERATIONS REACHED LIMIT.\n",
      "\n",
      "Increase the number of iterations (max_iter) or scale the data as shown in:\n",
      "    https://scikit-learn.org/stable/modules/preprocessing.html\n",
      "Please also refer to the documentation for alternative solver options:\n",
      "    https://scikit-learn.org/stable/modules/linear_model.html#logistic-regression\n",
      "  n_iter_i = _check_optimize_result(\n",
      "c:\\Users\\TMM\\AppData\\Local\\Programs\\Python\\Python312\\Lib\\site-packages\\sklearn\\linear_model\\_logistic.py:469: ConvergenceWarning: lbfgs failed to converge (status=1):\n",
      "STOP: TOTAL NO. of ITERATIONS REACHED LIMIT.\n",
      "\n",
      "Increase the number of iterations (max_iter) or scale the data as shown in:\n",
      "    https://scikit-learn.org/stable/modules/preprocessing.html\n",
      "Please also refer to the documentation for alternative solver options:\n",
      "    https://scikit-learn.org/stable/modules/linear_model.html#logistic-regression\n",
      "  n_iter_i = _check_optimize_result(\n",
      "c:\\Users\\TMM\\AppData\\Local\\Programs\\Python\\Python312\\Lib\\site-packages\\sklearn\\linear_model\\_logistic.py:469: ConvergenceWarning: lbfgs failed to converge (status=1):\n",
      "STOP: TOTAL NO. of ITERATIONS REACHED LIMIT.\n",
      "\n",
      "Increase the number of iterations (max_iter) or scale the data as shown in:\n",
      "    https://scikit-learn.org/stable/modules/preprocessing.html\n",
      "Please also refer to the documentation for alternative solver options:\n",
      "    https://scikit-learn.org/stable/modules/linear_model.html#logistic-regression\n",
      "  n_iter_i = _check_optimize_result(\n",
      "c:\\Users\\TMM\\AppData\\Local\\Programs\\Python\\Python312\\Lib\\site-packages\\sklearn\\linear_model\\_logistic.py:469: ConvergenceWarning: lbfgs failed to converge (status=1):\n",
      "STOP: TOTAL NO. of ITERATIONS REACHED LIMIT.\n",
      "\n",
      "Increase the number of iterations (max_iter) or scale the data as shown in:\n",
      "    https://scikit-learn.org/stable/modules/preprocessing.html\n",
      "Please also refer to the documentation for alternative solver options:\n",
      "    https://scikit-learn.org/stable/modules/linear_model.html#logistic-regression\n",
      "  n_iter_i = _check_optimize_result(\n",
      "c:\\Users\\TMM\\AppData\\Local\\Programs\\Python\\Python312\\Lib\\site-packages\\sklearn\\linear_model\\_logistic.py:469: ConvergenceWarning: lbfgs failed to converge (status=1):\n",
      "STOP: TOTAL NO. of ITERATIONS REACHED LIMIT.\n",
      "\n",
      "Increase the number of iterations (max_iter) or scale the data as shown in:\n",
      "    https://scikit-learn.org/stable/modules/preprocessing.html\n",
      "Please also refer to the documentation for alternative solver options:\n",
      "    https://scikit-learn.org/stable/modules/linear_model.html#logistic-regression\n",
      "  n_iter_i = _check_optimize_result(\n",
      " 28%|██▊       | 5/18 [00:05<00:21,  1.65s/it]c:\\Users\\TMM\\AppData\\Local\\Programs\\Python\\Python312\\Lib\\site-packages\\sklearn\\neural_network\\_multilayer_perceptron.py:690: ConvergenceWarning: Stochastic Optimizer: Maximum iterations (200) reached and the optimization hasn't converged yet.\n",
      "  warnings.warn(\n",
      " 39%|███▉      | 7/18 [00:14<00:28,  2.60s/it]"
     ]
    },
    {
     "name": "stdout",
     "output_type": "stream",
     "text": [
      "Model NuSVC failed: specified nu is infeasible\n"
     ]
    },
    {
     "name": "stderr",
     "output_type": "stream",
     "text": [
      " 61%|██████    | 11/18 [01:15<01:26, 12.34s/it]c:\\Users\\TMM\\AppData\\Local\\Programs\\Python\\Python312\\Lib\\site-packages\\sklearn\\ensemble\\_weight_boosting.py:527: FutureWarning: The SAMME.R algorithm (the default) is deprecated and will be removed in 1.6. Use the SAMME algorithm to circumvent this warning.\n",
      "  warnings.warn(\n",
      "100%|██████████| 18/18 [01:17<00:00,  4.30s/it]"
     ]
    },
    {
     "name": "stdout",
     "output_type": "stream",
     "text": [
      "                             Model  Accuracy  Precision    Recall  F1 Score\n",
      "0                        LinearSVC  0.978142   0.968537  0.945489  0.924940\n",
      "1                    SGDClassifier  0.952186   0.954848  0.913083  0.900973\n",
      "2                       Perceptron  0.960383   0.946663  0.935902  0.907830\n",
      "3               LogisticRegression  0.965847   0.957456  0.936920  0.914962\n",
      "4             LogisticRegressionCV  0.978142   0.966280  0.945489  0.923763\n",
      "5                    MLPClassifier  0.982240   0.950000  0.949077  0.941918\n",
      "6                              SVC  0.980874   0.970526  0.947368  0.926901\n",
      "7           RandomForestClassifier  0.967213   0.902404  0.902341  0.902241\n",
      "8       GradientBoostingClassifier  0.965847   0.900638  0.901401  0.900815\n",
      "9   HistGradientBoostingClassifier  0.967213   0.899991  0.902341  0.900986\n",
      "10              AdaBoostClassifier  0.214481   0.890109  0.172195  0.101541\n",
      "11            ExtraTreesClassifier  0.968579   0.903281  0.903281  0.903158\n",
      "12               BaggingClassifier  0.967213   0.901957  0.901316  0.901618\n",
      "13                     BernoulliNB  0.095628   0.899777  0.052632  0.009199\n",
      "14                      GaussianNB  0.897541   0.883586  0.882269  0.879365\n",
      "15            KNeighborsClassifier  0.969945   0.908345  0.909860  0.909031\n",
      "16   QuadraticDiscriminantAnalysis  0.967213   0.900392  0.903332  0.901576\n"
     ]
    },
    {
     "name": "stderr",
     "output_type": "stream",
     "text": [
      "\n"
     ]
    }
   ],
   "source": [
    "import pandas as pd\n",
    "from sklearn.metrics import precision_score, recall_score, f1_score, accuracy_score\n",
    "from tqdm import tqdm\n",
    "from sklearn.svm import LinearSVC, SVC, NuSVC\n",
    "from sklearn.linear_model import SGDClassifier, Perceptron, LogisticRegression, LogisticRegressionCV\n",
    "from sklearn.neural_network import MLPClassifier\n",
    "from sklearn.ensemble import RandomForestClassifier, GradientBoostingClassifier, HistGradientBoostingClassifier\n",
    "from sklearn.ensemble import AdaBoostClassifier, ExtraTreesClassifier, BaggingClassifier\n",
    "from sklearn.naive_bayes import BernoulliNB, GaussianNB\n",
    "from sklearn.neighbors import KNeighborsClassifier\n",
    "from sklearn.discriminant_analysis import QuadraticDiscriminantAnalysis\n",
    "\n",
    "# List of models to evaluate\n",
    "models = [\n",
    "    LinearSVC(),\n",
    "    SGDClassifier(),\n",
    "    Perceptron(),\n",
    "    LogisticRegression(),\n",
    "    LogisticRegressionCV(),\n",
    "    MLPClassifier(),\n",
    "    SVC(),\n",
    "    NuSVC(),\n",
    "    RandomForestClassifier(),\n",
    "    GradientBoostingClassifier(),\n",
    "    HistGradientBoostingClassifier(),\n",
    "    AdaBoostClassifier(),\n",
    "    ExtraTreesClassifier(),\n",
    "    BaggingClassifier(),\n",
    "    BernoulliNB(),\n",
    "    GaussianNB(),\n",
    "    KNeighborsClassifier(),\n",
    "    QuadraticDiscriminantAnalysis()\n",
    "]\n",
    "\n",
    "# Prepare an empty list to collect the results\n",
    "results = []\n",
    "\n",
    "# Iterate over each model\n",
    "for model in tqdm(models):\n",
    "    model_name = model.__class__.__name__\n",
    "    try:\n",
    "        model.fit(X_train, y_train)  # Assuming X_train and y_train are defined\n",
    "        y_pred = model.predict(X_test)  # Assuming X_test is defined\n",
    "\n",
    "        # Calculate metrics\n",
    "        accuracy = accuracy_score(y_test, y_pred)\n",
    "        precision = precision_score(y_test, y_pred, average='macro', zero_division=1)\n",
    "        recall = recall_score(y_test, y_pred, average='macro', zero_division=1)\n",
    "        f1 = f1_score(y_test, y_pred, average='macro', zero_division=1)\n",
    "        \n",
    "        # Append the results to the list as a dictionary\n",
    "        results.append({\n",
    "            'Model': model_name,\n",
    "            'Accuracy': accuracy,\n",
    "            'Precision': precision,\n",
    "            'Recall': recall,\n",
    "            'F1 Score': f1\n",
    "        })\n",
    "\n",
    "    except Exception as e:\n",
    "        print(f\"Model {model_name} failed: {e}\")\n",
    "\n",
    "# Convert the results list to a DataFrame\n",
    "results_df = pd.DataFrame(results)\n",
    "\n",
    "print(results_df)\n"
   ]
  },
  {
   "cell_type": "code",
   "execution_count": 48,
   "id": "1440386f-55c3-4914-a2ca-83aacbaf146a",
   "metadata": {},
   "outputs": [
    {
     "name": "stdout",
     "output_type": "stream",
     "text": [
      "                             Model  Accuracy  Precision    Recall  F1 Score\n",
      "0                        LinearSVC  0.978142   0.968537  0.945489  0.924940\n",
      "1                    SGDClassifier  0.952186   0.954848  0.913083  0.900973\n",
      "2                       Perceptron  0.960383   0.946663  0.935902  0.907830\n",
      "3               LogisticRegression  0.965847   0.957456  0.936920  0.914962\n",
      "4             LogisticRegressionCV  0.978142   0.966280  0.945489  0.923763\n",
      "5                    MLPClassifier  0.982240   0.950000  0.949077  0.941918\n",
      "6                              SVC  0.980874   0.970526  0.947368  0.926901\n",
      "7           RandomForestClassifier  0.967213   0.902404  0.902341  0.902241\n",
      "8       GradientBoostingClassifier  0.965847   0.900638  0.901401  0.900815\n",
      "9   HistGradientBoostingClassifier  0.967213   0.899991  0.902341  0.900986\n",
      "10              AdaBoostClassifier  0.214481   0.890109  0.172195  0.101541\n",
      "11            ExtraTreesClassifier  0.968579   0.903281  0.903281  0.903158\n",
      "12               BaggingClassifier  0.967213   0.901957  0.901316  0.901618\n",
      "13                     BernoulliNB  0.095628   0.899777  0.052632  0.009199\n",
      "14                      GaussianNB  0.897541   0.883586  0.882269  0.879365\n",
      "15            KNeighborsClassifier  0.969945   0.908345  0.909860  0.909031\n",
      "16   QuadraticDiscriminantAnalysis  0.967213   0.900392  0.903332  0.901576\n"
     ]
    }
   ],
   "source": [
    "import pandas as pd\n",
    "\n",
    "# Convert the results list to a DataFrame\n",
    "Model_accuracy = pd.DataFrame(results)\n",
    "\n",
    "# Set the index to model names\n",
    "#Model_accuracy.index = [model['Model'] for model in results]\n",
    "\n",
    "# Display the result\n",
    "print(Model_accuracy)\n",
    "\n"
   ]
  },
  {
   "cell_type": "code",
   "execution_count": 49,
   "id": "8bdf8895-4e30-4579-82a8-0664b3f9a0d0",
   "metadata": {},
   "outputs": [
    {
     "data": {
      "text/html": [
       "<div>\n",
       "<style scoped>\n",
       "    .dataframe tbody tr th:only-of-type {\n",
       "        vertical-align: middle;\n",
       "    }\n",
       "\n",
       "    .dataframe tbody tr th {\n",
       "        vertical-align: top;\n",
       "    }\n",
       "\n",
       "    .dataframe thead th {\n",
       "        text-align: right;\n",
       "    }\n",
       "</style>\n",
       "<table border=\"1\" class=\"dataframe\">\n",
       "  <thead>\n",
       "    <tr style=\"text-align: right;\">\n",
       "      <th></th>\n",
       "      <th>Model</th>\n",
       "      <th>Accuracy</th>\n",
       "      <th>Precision</th>\n",
       "      <th>Recall</th>\n",
       "      <th>F1 Score</th>\n",
       "    </tr>\n",
       "  </thead>\n",
       "  <tbody>\n",
       "    <tr>\n",
       "      <th>0</th>\n",
       "      <td>LinearSVC</td>\n",
       "      <td>0.978142</td>\n",
       "      <td>0.968537</td>\n",
       "      <td>0.945489</td>\n",
       "      <td>0.924940</td>\n",
       "    </tr>\n",
       "    <tr>\n",
       "      <th>1</th>\n",
       "      <td>SGDClassifier</td>\n",
       "      <td>0.952186</td>\n",
       "      <td>0.954848</td>\n",
       "      <td>0.913083</td>\n",
       "      <td>0.900973</td>\n",
       "    </tr>\n",
       "    <tr>\n",
       "      <th>2</th>\n",
       "      <td>Perceptron</td>\n",
       "      <td>0.960383</td>\n",
       "      <td>0.946663</td>\n",
       "      <td>0.935902</td>\n",
       "      <td>0.907830</td>\n",
       "    </tr>\n",
       "    <tr>\n",
       "      <th>3</th>\n",
       "      <td>LogisticRegression</td>\n",
       "      <td>0.965847</td>\n",
       "      <td>0.957456</td>\n",
       "      <td>0.936920</td>\n",
       "      <td>0.914962</td>\n",
       "    </tr>\n",
       "    <tr>\n",
       "      <th>4</th>\n",
       "      <td>LogisticRegressionCV</td>\n",
       "      <td>0.978142</td>\n",
       "      <td>0.966280</td>\n",
       "      <td>0.945489</td>\n",
       "      <td>0.923763</td>\n",
       "    </tr>\n",
       "    <tr>\n",
       "      <th>5</th>\n",
       "      <td>MLPClassifier</td>\n",
       "      <td>0.982240</td>\n",
       "      <td>0.950000</td>\n",
       "      <td>0.949077</td>\n",
       "      <td>0.941918</td>\n",
       "    </tr>\n",
       "    <tr>\n",
       "      <th>6</th>\n",
       "      <td>SVC</td>\n",
       "      <td>0.980874</td>\n",
       "      <td>0.970526</td>\n",
       "      <td>0.947368</td>\n",
       "      <td>0.926901</td>\n",
       "    </tr>\n",
       "    <tr>\n",
       "      <th>7</th>\n",
       "      <td>RandomForestClassifier</td>\n",
       "      <td>0.967213</td>\n",
       "      <td>0.902404</td>\n",
       "      <td>0.902341</td>\n",
       "      <td>0.902241</td>\n",
       "    </tr>\n",
       "    <tr>\n",
       "      <th>8</th>\n",
       "      <td>GradientBoostingClassifier</td>\n",
       "      <td>0.965847</td>\n",
       "      <td>0.900638</td>\n",
       "      <td>0.901401</td>\n",
       "      <td>0.900815</td>\n",
       "    </tr>\n",
       "    <tr>\n",
       "      <th>9</th>\n",
       "      <td>HistGradientBoostingClassifier</td>\n",
       "      <td>0.967213</td>\n",
       "      <td>0.899991</td>\n",
       "      <td>0.902341</td>\n",
       "      <td>0.900986</td>\n",
       "    </tr>\n",
       "    <tr>\n",
       "      <th>10</th>\n",
       "      <td>AdaBoostClassifier</td>\n",
       "      <td>0.214481</td>\n",
       "      <td>0.890109</td>\n",
       "      <td>0.172195</td>\n",
       "      <td>0.101541</td>\n",
       "    </tr>\n",
       "    <tr>\n",
       "      <th>11</th>\n",
       "      <td>ExtraTreesClassifier</td>\n",
       "      <td>0.968579</td>\n",
       "      <td>0.903281</td>\n",
       "      <td>0.903281</td>\n",
       "      <td>0.903158</td>\n",
       "    </tr>\n",
       "    <tr>\n",
       "      <th>12</th>\n",
       "      <td>BaggingClassifier</td>\n",
       "      <td>0.967213</td>\n",
       "      <td>0.901957</td>\n",
       "      <td>0.901316</td>\n",
       "      <td>0.901618</td>\n",
       "    </tr>\n",
       "    <tr>\n",
       "      <th>13</th>\n",
       "      <td>BernoulliNB</td>\n",
       "      <td>0.095628</td>\n",
       "      <td>0.899777</td>\n",
       "      <td>0.052632</td>\n",
       "      <td>0.009199</td>\n",
       "    </tr>\n",
       "    <tr>\n",
       "      <th>14</th>\n",
       "      <td>GaussianNB</td>\n",
       "      <td>0.897541</td>\n",
       "      <td>0.883586</td>\n",
       "      <td>0.882269</td>\n",
       "      <td>0.879365</td>\n",
       "    </tr>\n",
       "    <tr>\n",
       "      <th>15</th>\n",
       "      <td>KNeighborsClassifier</td>\n",
       "      <td>0.969945</td>\n",
       "      <td>0.908345</td>\n",
       "      <td>0.909860</td>\n",
       "      <td>0.909031</td>\n",
       "    </tr>\n",
       "    <tr>\n",
       "      <th>16</th>\n",
       "      <td>QuadraticDiscriminantAnalysis</td>\n",
       "      <td>0.967213</td>\n",
       "      <td>0.900392</td>\n",
       "      <td>0.903332</td>\n",
       "      <td>0.901576</td>\n",
       "    </tr>\n",
       "  </tbody>\n",
       "</table>\n",
       "</div>"
      ],
      "text/plain": [
       "                             Model  Accuracy  Precision    Recall  F1 Score\n",
       "0                        LinearSVC  0.978142   0.968537  0.945489  0.924940\n",
       "1                    SGDClassifier  0.952186   0.954848  0.913083  0.900973\n",
       "2                       Perceptron  0.960383   0.946663  0.935902  0.907830\n",
       "3               LogisticRegression  0.965847   0.957456  0.936920  0.914962\n",
       "4             LogisticRegressionCV  0.978142   0.966280  0.945489  0.923763\n",
       "5                    MLPClassifier  0.982240   0.950000  0.949077  0.941918\n",
       "6                              SVC  0.980874   0.970526  0.947368  0.926901\n",
       "7           RandomForestClassifier  0.967213   0.902404  0.902341  0.902241\n",
       "8       GradientBoostingClassifier  0.965847   0.900638  0.901401  0.900815\n",
       "9   HistGradientBoostingClassifier  0.967213   0.899991  0.902341  0.900986\n",
       "10              AdaBoostClassifier  0.214481   0.890109  0.172195  0.101541\n",
       "11            ExtraTreesClassifier  0.968579   0.903281  0.903281  0.903158\n",
       "12               BaggingClassifier  0.967213   0.901957  0.901316  0.901618\n",
       "13                     BernoulliNB  0.095628   0.899777  0.052632  0.009199\n",
       "14                      GaussianNB  0.897541   0.883586  0.882269  0.879365\n",
       "15            KNeighborsClassifier  0.969945   0.908345  0.909860  0.909031\n",
       "16   QuadraticDiscriminantAnalysis  0.967213   0.900392  0.903332  0.901576"
      ]
     },
     "execution_count": 49,
     "metadata": {},
     "output_type": "execute_result"
    }
   ],
   "source": [
    "Model_accuracy"
   ]
  },
  {
   "cell_type": "code",
   "execution_count": 59,
   "id": "d3db437a-6ff7-40cc-a264-f0399e90d91b",
   "metadata": {},
   "outputs": [
    {
     "name": "stdout",
     "output_type": "stream",
     "text": [
      "Model is SVC\n",
      "Accuracy:  0.98,\n",
      "Precision: 0.97, \n",
      "Recall:    0.95, \n",
      "F1 Score:  0.93\n"
     ]
    },
    {
     "name": "stderr",
     "output_type": "stream",
     "text": [
      "C:\\Users\\TMM\\AppData\\Local\\Temp\\ipykernel_20032\\3841540719.py:2: FutureWarning: Series.__getitem__ treating keys as positions is deprecated. In a future version, integer keys will always be treated as labels (consistent with DataFrame behavior). To access a value by position, use `ser.iloc[pos]`\n",
      "  L = list(Model_accuracy.iloc[max_indices[0]])\n"
     ]
    }
   ],
   "source": [
    "max_indices = Model_accuracy.idxmax()\n",
    "L = list(Model_accuracy.iloc[max_indices[0]])\n",
    "\n",
    "# Extract only numeric values from L (excluding the model name)\n",
    "numeric_values = [float(i) for i in L[1:]]  # Skip the first element which is the model name\n",
    "\n",
    "# Print the model name along with the numeric values formatted\n",
    "print(f\"Model is {L[0]}\\nAccuracy:  {numeric_values[0]:.2f},\\nPrecision: {numeric_values[1]:.2f}, \\nRecall:    {numeric_values[2]:.2f}, \\nF1 Score:  {numeric_values[3]:.2f}\")\n"
   ]
  },
  {
   "cell_type": "code",
   "execution_count": 60,
   "id": "1ca5ea13-cb21-4082-b862-13facb2d1efc",
   "metadata": {},
   "outputs": [
    {
     "data": {
      "image/png": "[encoded data removed]",
      "text/plain": [
       "<Figure size 1000x600 with 1 Axes>"
      ]
     },
     "metadata": {},
     "output_type": "display_data"
    },
    {
     "data": {
      "image/png": "[encoded data removed]",
      "text/plain": [
       "<Figure size 1000x600 with 1 Axes>"
      ]
     },
     "metadata": {},
     "output_type": "display_data"
    }
   ],
   "source": [
    "# Plotting first set (0 to 8)\n",
    "Model_accuracy.iloc[:9,].plot(kind='bar', figsize=(10, 6))\n",
    "\n",
    "# Customizing the plot\n",
    "plt.xlabel('Model')\n",
    "plt.ylabel('Scores')\n",
    "plt.title('Model Accuracy Scores')\n",
    "plt.xticks(rotation=45)  # Rotate model names for better readability\n",
    "plt.legend(loc='upper right')\n",
    "plt.tight_layout()  # Adjust layout to fit labels\n",
    "plt.show()\n",
    "\n",
    "# Plotting second set (9 to 17)\n",
    "Model_accuracy.iloc[9:18,].plot(kind='bar', figsize=(10, 6))\n",
    "\n",
    "# Customizing the plot\n",
    "plt.title('Model Accuracy Scores')\n",
    "plt.xlabel('Model')\n",
    "plt.ylabel('Scores')\n",
    "plt.xticks(rotation=45)  # Rotate model names for better readability\n",
    "plt.legend(loc='upper right')\n",
    "plt.tight_layout()  # Adjust layout to fit labels\n",
    "plt.show()\n"
   ]
  },
  {
   "cell_type": "code",
   "execution_count": 61,
   "id": "df4cc9cb-c808-49bb-9814-a59cf992a8e1",
   "metadata": {},
   "outputs": [
    {
     "name": "stdout",
     "output_type": "stream",
     "text": [
      "The best model (5) has been saved successfully.\n"
     ]
    }
   ],
   "source": [
    "import joblib\n",
    "\n",
    "# Assuming Model_accuracy has the format where model names are in the index\n",
    "# and accuracy scores are in one of the columns, e.g., 'Accuracy'\n",
    "# Get the index of the best model based on the highest accuracy\n",
    "best_model_index = Model_accuracy['Accuracy'].idxmax()\n",
    "\n",
    "# Assuming 'models' is a dictionary or list where the models are stored\n",
    "# Retrieve the best model based on the index from the Model_accuracy DataFrame\n",
    "best_model = models[best_model_index]  # Replace 'models' with your actual model container\n",
    "\n",
    "# Save the best model using joblib\n",
    "joblib.dump(best_model, f'best_model_{best_model_index}.joblib')\n",
    "\n",
    "print(f\"The best model ({best_model_index}) has been saved successfully.\")\n"
   ]
  },
  {
   "cell_type": "code",
   "execution_count": null,
   "id": "46156e79-b3d8-4d80-a69a-0c381ccb754f",
   "metadata": {},
   "outputs": [],
   "source": []
  },
  {
   "cell_type": "code",
   "execution_count": null,
   "id": "21c680fb-bef0-40fb-8e95-2d7f6da667e3",
   "metadata": {},
   "outputs": [],
   "source": []
  },
  {
   "cell_type": "code",
   "execution_count": null,
   "id": "c1e99aee-0ab4-4221-b206-2c3501d77c93",
   "metadata": {},
   "outputs": [],
   "source": []
  },
  {
   "cell_type": "code",
   "execution_count": null,
   "id": "ac48ba00-700e-44cb-871c-4e301b12162c",
   "metadata": {},
   "outputs": [],
   "source": []
  },
  {
   "cell_type": "code",
   "execution_count": null,
   "id": "569b6566-feeb-48ce-9487-0a1f9b680b8b",
   "metadata": {},
   "outputs": [],
   "source": []
  },
  {
   "cell_type": "code",
   "execution_count": null,
   "id": "f423cb8e-a931-4e13-887f-2d1736686d32",
   "metadata": {},
   "outputs": [],
   "source": []
  }
 ],
 "metadata": {
  "kernelspec": {
   "display_name": "Python 3",
   "language": "python",
   "name": "python3"
  },
  "language_info": {
   "codemirror_mode": {
    "name": "ipython",
    "version": 3
   },
   "file_extension": ".py",
   "mimetype": "text/x-python",
   "name": "python",
   "nbconvert_exporter": "python",
   "pygments_lexer": "ipython3",
   "version": "3.12.7"
  }
 },
 "nbformat": 4,
 "nbformat_minor": 5
}
